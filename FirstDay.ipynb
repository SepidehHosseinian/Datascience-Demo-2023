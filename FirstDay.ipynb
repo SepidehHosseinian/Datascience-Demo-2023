{
  "nbformat": 4,
  "nbformat_minor": 0,
  "metadata": {
    "colab": {
      "provenance": [],
      "toc_visible": true,
      "authorship_tag": "ABX9TyMTe1etAdfsxXVBbfaiGl24",
      "include_colab_link": true
    },
    "kernelspec": {
      "name": "python3",
      "display_name": "Python 3"
    },
    "language_info": {
      "name": "python"
    }
  },
  "cells": [
    {
      "cell_type": "markdown",
      "metadata": {
        "id": "view-in-github",
        "colab_type": "text"
      },
      "source": [
        "<a href=\"https://colab.research.google.com/github/SepidehHosseinian/Datascience-Demo-2023/blob/main/FirstDay.ipynb\" target=\"_parent\"><img src=\"https://colab.research.google.com/assets/colab-badge.svg\" alt=\"Open In Colab\"/></a>"
      ]
    },
    {
      "cell_type": "markdown",
      "source": [
        "# Ingest"
      ],
      "metadata": {
        "id": "jyFPSkEwg6b3"
      }
    },
    {
      "cell_type": "markdown",
      "source": [
        "### Load Data"
      ],
      "metadata": {
        "id": "uA2LN72fhVDX"
      }
    },
    {
      "cell_type": "code",
      "source": [
        "print(\"LoadData\")"
      ],
      "metadata": {
        "colab": {
          "base_uri": "https://localhost:8080/"
        },
        "id": "lcPkO8FNhD_d",
        "outputId": "5ff0798a-eb4b-4c2d-8775-6e17581fecd8"
      },
      "execution_count": 5,
      "outputs": [
        {
          "output_type": "stream",
          "name": "stdout",
          "text": [
            "LoadData\n"
          ]
        }
      ]
    },
    {
      "cell_type": "markdown",
      "source": [
        "# EDA"
      ],
      "metadata": {
        "id": "PJ3huaPxhcq5"
      }
    },
    {
      "cell_type": "code",
      "source": [
        "print(\"EDA\")"
      ],
      "metadata": {
        "colab": {
          "base_uri": "https://localhost:8080/"
        },
        "id": "FxrAw7qyhrgX",
        "outputId": "e2c84bc3-7431-4cc0-aa42-c48eb1ad6c5a"
      },
      "execution_count": 3,
      "outputs": [
        {
          "output_type": "stream",
          "name": "stdout",
          "text": [
            "EDA\n"
          ]
        }
      ]
    },
    {
      "cell_type": "markdown",
      "source": [
        "# Modeling"
      ],
      "metadata": {
        "id": "GZzdqVRjhjlz"
      }
    },
    {
      "cell_type": "code",
      "source": [
        "print(\"Modeling\")"
      ],
      "metadata": {
        "colab": {
          "base_uri": "https://localhost:8080/"
        },
        "id": "GrDJm5l8iBCO",
        "outputId": "571665f7-9a35-4668-935f-23c96f590de7"
      },
      "execution_count": 7,
      "outputs": [
        {
          "output_type": "stream",
          "name": "stdout",
          "text": [
            "Modeling\n"
          ]
        }
      ]
    },
    {
      "cell_type": "markdown",
      "source": [
        "# conlusion"
      ],
      "metadata": {
        "id": "h4sNCMUoh4-6"
      }
    },
    {
      "cell_type": "code",
      "source": [
        "print(\"Modeling\")"
      ],
      "metadata": {
        "colab": {
          "base_uri": "https://localhost:8080/"
        },
        "id": "CWT_F280iAN_",
        "outputId": "ebbeaaaf-5760-40d3-b67b-81a0951fa93d"
      },
      "execution_count": 6,
      "outputs": [
        {
          "output_type": "stream",
          "name": "stdout",
          "text": [
            "Modeling\n"
          ]
        }
      ]
    }
  ]
}